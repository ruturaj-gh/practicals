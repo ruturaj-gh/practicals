{
 "cells": [
  {
   "cell_type": "code",
   "execution_count": null,
   "metadata": {
    "execution": {
     "iopub.execute_input": "2022-11-08T13:06:39.705733Z",
     "iopub.status.busy": "2022-11-08T13:06:39.704746Z",
     "iopub.status.idle": "2022-11-08T13:06:39.7119Z",
     "shell.execute_reply": "2022-11-08T13:06:39.710137Z",
     "shell.execute_reply.started": "2022-11-08T13:06:39.705682Z"
    }
   },
   "outputs": [],
   "source": [
    "import numpy as np\n",
    "import pandas as pd"
   ]
  },
  {
   "cell_type": "code",
   "execution_count": null,
   "metadata": {
    "execution": {
     "iopub.execute_input": "2022-11-08T13:06:39.715235Z",
     "iopub.status.busy": "2022-11-08T13:06:39.714099Z",
     "iopub.status.idle": "2022-11-08T13:06:39.759155Z",
     "shell.execute_reply": "2022-11-08T13:06:39.757817Z",
     "shell.execute_reply.started": "2022-11-08T13:06:39.715179Z"
    }
   },
   "outputs": [],
   "source": [
    "df = pd.read_csv('../input/sms-spam-collection-data-set/SMSSpamCollection',sep='\\t',names=['label','text'])"
   ]
  },
  {
   "cell_type": "code",
   "execution_count": null,
   "metadata": {
    "execution": {
     "iopub.execute_input": "2022-11-08T13:06:39.762304Z",
     "iopub.status.busy": "2022-11-08T13:06:39.761566Z",
     "iopub.status.idle": "2022-11-08T13:06:39.800057Z",
     "shell.execute_reply": "2022-11-08T13:06:39.798858Z",
     "shell.execute_reply.started": "2022-11-08T13:06:39.762257Z"
    }
   },
   "outputs": [],
   "source": [
    "df"
   ]
  },
  {
   "cell_type": "markdown",
   "metadata": {},
   "source": [
    "# Data Pre-processing"
   ]
  },
  {
   "cell_type": "code",
   "execution_count": null,
   "metadata": {
    "execution": {
     "iopub.execute_input": "2022-11-08T13:06:39.803007Z",
     "iopub.status.busy": "2022-11-08T13:06:39.802281Z",
     "iopub.status.idle": "2022-11-08T13:06:39.81096Z",
     "shell.execute_reply": "2022-11-08T13:06:39.809647Z",
     "shell.execute_reply.started": "2022-11-08T13:06:39.802962Z"
    }
   },
   "outputs": [],
   "source": [
    "df.shape"
   ]
  },
  {
   "cell_type": "code",
   "execution_count": null,
   "metadata": {
    "execution": {
     "iopub.execute_input": "2022-11-08T13:06:39.819354Z",
     "iopub.status.busy": "2022-11-08T13:06:39.818844Z",
     "iopub.status.idle": "2022-11-08T13:06:42.492425Z",
     "shell.execute_reply": "2022-11-08T13:06:42.489333Z",
     "shell.execute_reply.started": "2022-11-08T13:06:39.819309Z"
    }
   },
   "outputs": [],
   "source": [
    "import nltk #!pip install nltk"
   ]
  },
  {
   "cell_type": "code",
   "execution_count": null,
   "metadata": {
    "execution": {
     "iopub.execute_input": "2022-11-08T13:06:42.496361Z",
     "iopub.status.busy": "2022-11-08T13:06:42.495247Z",
     "iopub.status.idle": "2022-11-08T13:06:42.673725Z",
     "shell.execute_reply": "2022-11-08T13:06:42.672502Z",
     "shell.execute_reply.started": "2022-11-08T13:06:42.496306Z"
    }
   },
   "outputs": [],
   "source": [
    "nltk.download('stopwords')"
   ]
  },
  {
   "cell_type": "code",
   "execution_count": null,
   "metadata": {
    "execution": {
     "iopub.execute_input": "2022-11-08T13:06:42.675894Z",
     "iopub.status.busy": "2022-11-08T13:06:42.675487Z",
     "iopub.status.idle": "2022-11-08T13:06:42.680288Z",
     "shell.execute_reply": "2022-11-08T13:06:42.679404Z",
     "shell.execute_reply.started": "2022-11-08T13:06:42.67586Z"
    }
   },
   "outputs": [],
   "source": [
    "sent = 'How are you friends?'"
   ]
  },
  {
   "cell_type": "code",
   "execution_count": null,
   "metadata": {
    "execution": {
     "iopub.execute_input": "2022-11-08T13:06:42.683517Z",
     "iopub.status.busy": "2022-11-08T13:06:42.682871Z",
     "iopub.status.idle": "2022-11-08T13:06:42.715626Z",
     "shell.execute_reply": "2022-11-08T13:06:42.714624Z",
     "shell.execute_reply.started": "2022-11-08T13:06:42.683482Z"
    }
   },
   "outputs": [],
   "source": [
    "from nltk.tokenize import word_tokenize\n",
    "word_tokenize(sent)"
   ]
  },
  {
   "cell_type": "code",
   "execution_count": null,
   "metadata": {
    "execution": {
     "iopub.execute_input": "2022-11-08T13:06:42.717944Z",
     "iopub.status.busy": "2022-11-08T13:06:42.717243Z",
     "iopub.status.idle": "2022-11-08T13:06:42.725078Z",
     "shell.execute_reply": "2022-11-08T13:06:42.724025Z",
     "shell.execute_reply.started": "2022-11-08T13:06:42.717899Z"
    }
   },
   "outputs": [],
   "source": [
    "from nltk.corpus import stopwords\n",
    "swords = stopwords.words('english')"
   ]
  },
  {
   "cell_type": "code",
   "execution_count": null,
   "metadata": {
    "execution": {
     "iopub.execute_input": "2022-11-08T13:06:42.727516Z",
     "iopub.status.busy": "2022-11-08T13:06:42.726791Z",
     "iopub.status.idle": "2022-11-08T13:06:42.739269Z",
     "shell.execute_reply": "2022-11-08T13:06:42.738065Z",
     "shell.execute_reply.started": "2022-11-08T13:06:42.727479Z"
    }
   },
   "outputs": [],
   "source": [
    "clean = [word for word in word_tokenize(sent) if word not in swords]"
   ]
  },
  {
   "cell_type": "code",
   "execution_count": null,
   "metadata": {
    "execution": {
     "iopub.execute_input": "2022-11-08T13:06:42.741146Z",
     "iopub.status.busy": "2022-11-08T13:06:42.74074Z",
     "iopub.status.idle": "2022-11-08T13:06:42.754351Z",
     "shell.execute_reply": "2022-11-08T13:06:42.753253Z",
     "shell.execute_reply.started": "2022-11-08T13:06:42.741092Z"
    }
   },
   "outputs": [],
   "source": [
    "clean"
   ]
  },
  {
   "cell_type": "code",
   "execution_count": null,
   "metadata": {
    "execution": {
     "iopub.execute_input": "2022-11-08T13:06:42.756186Z",
     "iopub.status.busy": "2022-11-08T13:06:42.755708Z",
     "iopub.status.idle": "2022-11-08T13:06:42.774849Z",
     "shell.execute_reply": "2022-11-08T13:06:42.773816Z",
     "shell.execute_reply.started": "2022-11-08T13:06:42.756151Z"
    }
   },
   "outputs": [],
   "source": [
    "# Stemming words with NLTK\n",
    "from nltk.stem import PorterStemmer\n",
    "ps = PorterStemmer()\n",
    "clean = [ps.stem(word) for word in word_tokenize(sent) \n",
    "         if word not in swords]\n",
    "clean"
   ]
  },
  {
   "cell_type": "code",
   "execution_count": null,
   "metadata": {
    "execution": {
     "iopub.execute_input": "2022-11-08T13:06:42.777209Z",
     "iopub.status.busy": "2022-11-08T13:06:42.776446Z",
     "iopub.status.idle": "2022-11-08T13:06:42.787212Z",
     "shell.execute_reply": "2022-11-08T13:06:42.785688Z",
     "shell.execute_reply.started": "2022-11-08T13:06:42.777162Z"
    }
   },
   "outputs": [],
   "source": [
    "sent = 'Hello friends! How are you? We will learning python today'"
   ]
  },
  {
   "cell_type": "code",
   "execution_count": null,
   "metadata": {
    "execution": {
     "iopub.execute_input": "2022-11-08T13:06:42.79221Z",
     "iopub.status.busy": "2022-11-08T13:06:42.791826Z",
     "iopub.status.idle": "2022-11-08T13:06:42.802599Z",
     "shell.execute_reply": "2022-11-08T13:06:42.801449Z",
     "shell.execute_reply.started": "2022-11-08T13:06:42.792177Z"
    }
   },
   "outputs": [],
   "source": [
    "def clean_text(sent):\n",
    "    tokens = word_tokenize(sent)\n",
    "    clean = [word for word in tokens if word.isdigit() or word.isalpha()]\n",
    "    clean = [ps.stem(word) for word in clean\n",
    "         if word not in swords]\n",
    "    return clean"
   ]
  },
  {
   "cell_type": "code",
   "execution_count": null,
   "metadata": {
    "execution": {
     "iopub.execute_input": "2022-11-08T13:06:42.805274Z",
     "iopub.status.busy": "2022-11-08T13:06:42.804145Z",
     "iopub.status.idle": "2022-11-08T13:06:42.822256Z",
     "shell.execute_reply": "2022-11-08T13:06:42.821091Z",
     "shell.execute_reply.started": "2022-11-08T13:06:42.805228Z"
    }
   },
   "outputs": [],
   "source": [
    "clean_text(sent)"
   ]
  },
  {
   "cell_type": "code",
   "execution_count": null,
   "metadata": {
    "execution": {
     "iopub.execute_input": "2022-11-08T13:06:42.824823Z",
     "iopub.status.busy": "2022-11-08T13:06:42.823742Z",
     "iopub.status.idle": "2022-11-08T13:06:42.837624Z",
     "shell.execute_reply": "2022-11-08T13:06:42.836289Z",
     "shell.execute_reply.started": "2022-11-08T13:06:42.824731Z"
    }
   },
   "outputs": [],
   "source": [
    "# Pre-processing \n",
    "from sklearn.feature_extraction.text import TfidfVectorizer"
   ]
  },
  {
   "cell_type": "code",
   "execution_count": null,
   "metadata": {
    "execution": {
     "iopub.execute_input": "2022-11-08T13:06:42.84026Z",
     "iopub.status.busy": "2022-11-08T13:06:42.839489Z",
     "iopub.status.idle": "2022-11-08T13:06:42.854654Z",
     "shell.execute_reply": "2022-11-08T13:06:42.853362Z",
     "shell.execute_reply.started": "2022-11-08T13:06:42.840215Z"
    }
   },
   "outputs": [],
   "source": [
    "tfidf = TfidfVectorizer(analyzer=clean_text)"
   ]
  },
  {
   "cell_type": "code",
   "execution_count": null,
   "metadata": {
    "execution": {
     "iopub.execute_input": "2022-11-08T13:06:42.857124Z",
     "iopub.status.busy": "2022-11-08T13:06:42.856393Z",
     "iopub.status.idle": "2022-11-08T13:06:42.879411Z",
     "shell.execute_reply": "2022-11-08T13:06:42.878382Z",
     "shell.execute_reply.started": "2022-11-08T13:06:42.857079Z"
    }
   },
   "outputs": [],
   "source": [
    "x = df['text']\n",
    "y = df['label']"
   ]
  },
  {
   "cell_type": "code",
   "execution_count": null,
   "metadata": {
    "execution": {
     "iopub.execute_input": "2022-11-08T13:06:42.881983Z",
     "iopub.status.busy": "2022-11-08T13:06:42.88119Z",
     "iopub.status.idle": "2022-11-08T13:06:46.118182Z",
     "shell.execute_reply": "2022-11-08T13:06:46.11696Z",
     "shell.execute_reply.started": "2022-11-08T13:06:42.881938Z"
    }
   },
   "outputs": [],
   "source": [
    "x_new = tfidf.fit_transform(x)"
   ]
  },
  {
   "cell_type": "code",
   "execution_count": null,
   "metadata": {
    "execution": {
     "iopub.execute_input": "2022-11-08T13:06:46.120271Z",
     "iopub.status.busy": "2022-11-08T13:06:46.119796Z",
     "iopub.status.idle": "2022-11-08T13:06:46.129857Z",
     "shell.execute_reply": "2022-11-08T13:06:46.128387Z",
     "shell.execute_reply.started": "2022-11-08T13:06:46.120208Z"
    }
   },
   "outputs": [],
   "source": [
    "x.shape"
   ]
  },
  {
   "cell_type": "code",
   "execution_count": null,
   "metadata": {
    "execution": {
     "iopub.execute_input": "2022-11-08T13:06:46.132019Z",
     "iopub.status.busy": "2022-11-08T13:06:46.131449Z",
     "iopub.status.idle": "2022-11-08T13:06:46.145404Z",
     "shell.execute_reply": "2022-11-08T13:06:46.144474Z",
     "shell.execute_reply.started": "2022-11-08T13:06:46.131982Z"
    }
   },
   "outputs": [],
   "source": [
    "x_new.shape"
   ]
  },
  {
   "cell_type": "code",
   "execution_count": null,
   "metadata": {
    "execution": {
     "iopub.execute_input": "2022-11-08T13:06:46.147839Z",
     "iopub.status.busy": "2022-11-08T13:06:46.146874Z",
     "iopub.status.idle": "2022-11-08T13:06:46.159475Z",
     "shell.execute_reply": "2022-11-08T13:06:46.158519Z",
     "shell.execute_reply.started": "2022-11-08T13:06:46.147792Z"
    }
   },
   "outputs": [],
   "source": [
    "# tfidf.get_feature_names()"
   ]
  },
  {
   "cell_type": "code",
   "execution_count": null,
   "metadata": {
    "execution": {
     "iopub.execute_input": "2022-11-08T13:06:46.161444Z",
     "iopub.status.busy": "2022-11-08T13:06:46.160527Z",
     "iopub.status.idle": "2022-11-08T13:06:46.611274Z",
     "shell.execute_reply": "2022-11-08T13:06:46.610108Z",
     "shell.execute_reply.started": "2022-11-08T13:06:46.161406Z"
    }
   },
   "outputs": [],
   "source": [
    "import seaborn as sns\n",
    "sns.countplot(x=y)"
   ]
  },
  {
   "cell_type": "code",
   "execution_count": null,
   "metadata": {
    "execution": {
     "iopub.execute_input": "2022-11-08T13:06:46.61391Z",
     "iopub.status.busy": "2022-11-08T13:06:46.613113Z",
     "iopub.status.idle": "2022-11-08T13:06:46.623639Z",
     "shell.execute_reply": "2022-11-08T13:06:46.622055Z",
     "shell.execute_reply.started": "2022-11-08T13:06:46.613864Z"
    }
   },
   "outputs": [],
   "source": [
    "#cross validation\n",
    "from sklearn.model_selection import train_test_split\n",
    "x_train,x_test,y_train,y_test = train_test_split(x_new,y,test_size=0.25,random_state=1)"
   ]
  },
  {
   "cell_type": "code",
   "execution_count": null,
   "metadata": {
    "execution": {
     "iopub.execute_input": "2022-11-08T13:06:46.62595Z",
     "iopub.status.busy": "2022-11-08T13:06:46.625502Z",
     "iopub.status.idle": "2022-11-08T13:06:46.638463Z",
     "shell.execute_reply": "2022-11-08T13:06:46.637167Z",
     "shell.execute_reply.started": "2022-11-08T13:06:46.625913Z"
    }
   },
   "outputs": [],
   "source": [
    "print(f\"Size of splitted data\")\n",
    "print(f\"x_train {x_train.shape}\")\n",
    "print(f\"y_train {y_train.shape}\")\n",
    "print(f\"y_test {x_test.shape}\")\n",
    "print(f\"y_test {y_test.shape}\")"
   ]
  },
  {
   "cell_type": "code",
   "execution_count": null,
   "metadata": {
    "execution": {
     "iopub.execute_input": "2022-11-08T13:06:46.641636Z",
     "iopub.status.busy": "2022-11-08T13:06:46.640174Z",
     "iopub.status.idle": "2022-11-08T13:06:46.656638Z",
     "shell.execute_reply": "2022-11-08T13:06:46.655241Z",
     "shell.execute_reply.started": "2022-11-08T13:06:46.641588Z"
    }
   },
   "outputs": [],
   "source": [
    "from sklearn.naive_bayes import GaussianNB"
   ]
  },
  {
   "cell_type": "code",
   "execution_count": null,
   "metadata": {
    "execution": {
     "iopub.execute_input": "2022-11-08T13:06:46.659374Z",
     "iopub.status.busy": "2022-11-08T13:06:46.658736Z",
     "iopub.status.idle": "2022-11-08T13:06:47.557642Z",
     "shell.execute_reply": "2022-11-08T13:06:47.556328Z",
     "shell.execute_reply.started": "2022-11-08T13:06:46.659336Z"
    }
   },
   "outputs": [],
   "source": [
    "nb = GaussianNB()\n",
    "nb.fit(x_train.toarray(),y_train)\n",
    "y_pred_nb = nb.predict(x_test.toarray())"
   ]
  },
  {
   "cell_type": "code",
   "execution_count": null,
   "metadata": {
    "execution": {
     "iopub.execute_input": "2022-11-08T13:06:47.55957Z",
     "iopub.status.busy": "2022-11-08T13:06:47.55921Z",
     "iopub.status.idle": "2022-11-08T13:06:47.571595Z",
     "shell.execute_reply": "2022-11-08T13:06:47.570348Z",
     "shell.execute_reply.started": "2022-11-08T13:06:47.559536Z"
    }
   },
   "outputs": [],
   "source": [
    "y_test.value_counts()"
   ]
  },
  {
   "cell_type": "code",
   "execution_count": null,
   "metadata": {
    "execution": {
     "iopub.execute_input": "2022-11-08T13:06:47.573719Z",
     "iopub.status.busy": "2022-11-08T13:06:47.57337Z",
     "iopub.status.idle": "2022-11-08T13:06:47.584037Z",
     "shell.execute_reply": "2022-11-08T13:06:47.582716Z",
     "shell.execute_reply.started": "2022-11-08T13:06:47.573689Z"
    }
   },
   "outputs": [],
   "source": [
    "from sklearn.metrics import ConfusionMatrixDisplay, accuracy_score\n",
    "from sklearn.metrics import classification_report\n",
    "import matplotlib.pyplot as plt"
   ]
  },
  {
   "cell_type": "code",
   "execution_count": null,
   "metadata": {
    "execution": {
     "iopub.execute_input": "2022-11-08T13:06:47.586587Z",
     "iopub.status.busy": "2022-11-08T13:06:47.586169Z",
     "iopub.status.idle": "2022-11-08T13:06:47.882926Z",
     "shell.execute_reply": "2022-11-08T13:06:47.881619Z",
     "shell.execute_reply.started": "2022-11-08T13:06:47.586555Z"
    }
   },
   "outputs": [],
   "source": [
    "ConfusionMatrixDisplay.from_predictions(y_test,y_pred_nb)\n",
    "plt.title('Naive bayes')\n",
    "plt.show()\n",
    "print(f\" Accuracy is {accuracy_score(y_test,y_pred_nb)}\")\n",
    "print(classification_report(y_test,y_pred_nb))"
   ]
  },
  {
   "cell_type": "code",
   "execution_count": null,
   "metadata": {
    "execution": {
     "iopub.execute_input": "2022-11-08T13:06:47.884867Z",
     "iopub.status.busy": "2022-11-08T13:06:47.884384Z",
     "iopub.status.idle": "2022-11-08T13:06:52.181582Z",
     "shell.execute_reply": "2022-11-08T13:06:52.180404Z",
     "shell.execute_reply.started": "2022-11-08T13:06:47.884825Z"
    }
   },
   "outputs": [],
   "source": [
    "from sklearn.ensemble import RandomForestClassifier\n",
    "model_rf = RandomForestClassifier(random_state=1)\n",
    "model_rf.fit(x_train,y_train)\n"
   ]
  },
  {
   "cell_type": "code",
   "execution_count": null,
   "metadata": {
    "execution": {
     "iopub.execute_input": "2022-11-08T13:06:52.187232Z",
     "iopub.status.busy": "2022-11-08T13:06:52.186871Z",
     "iopub.status.idle": "2022-11-08T13:06:52.284058Z",
     "shell.execute_reply": "2022-11-08T13:06:52.283056Z",
     "shell.execute_reply.started": "2022-11-08T13:06:52.187201Z"
    }
   },
   "outputs": [],
   "source": [
    "y_pred_rf = model_rf.predict(x_test) #float"
   ]
  },
  {
   "cell_type": "code",
   "execution_count": null,
   "metadata": {
    "execution": {
     "iopub.execute_input": "2022-11-08T13:06:52.286882Z",
     "iopub.status.busy": "2022-11-08T13:06:52.286133Z",
     "iopub.status.idle": "2022-11-08T13:06:52.58953Z",
     "shell.execute_reply": "2022-11-08T13:06:52.588232Z",
     "shell.execute_reply.started": "2022-11-08T13:06:52.286843Z"
    }
   },
   "outputs": [],
   "source": [
    "ConfusionMatrixDisplay.from_predictions(y_test,y_pred_rf)\n",
    "plt.title('Random Forest')\n",
    "plt.show()\n",
    "print(f\" Accuracy is {accuracy_score(y_test,y_pred_rf)}\")\n",
    "print(classification_report(y_test,y_pred_rf))"
   ]
  },
  {
   "cell_type": "code",
   "execution_count": null,
   "metadata": {
    "execution": {
     "iopub.execute_input": "2022-11-08T13:06:52.591424Z",
     "iopub.status.busy": "2022-11-08T13:06:52.591051Z",
     "iopub.status.idle": "2022-11-08T13:06:52.665587Z",
     "shell.execute_reply": "2022-11-08T13:06:52.664257Z",
     "shell.execute_reply.started": "2022-11-08T13:06:52.591389Z"
    }
   },
   "outputs": [],
   "source": [
    "from sklearn.linear_model import LogisticRegression\n",
    "model_lr = LogisticRegression(random_state=1)\n",
    "\n",
    "model_lr.fit(x_train,y_train)\n",
    "y_pred_lr = model_lr.predict(x_test)"
   ]
  },
  {
   "cell_type": "code",
   "execution_count": null,
   "metadata": {
    "execution": {
     "iopub.execute_input": "2022-11-08T13:06:52.667754Z",
     "iopub.status.busy": "2022-11-08T13:06:52.667279Z",
     "iopub.status.idle": "2022-11-08T13:06:52.963045Z",
     "shell.execute_reply": "2022-11-08T13:06:52.961846Z",
     "shell.execute_reply.started": "2022-11-08T13:06:52.667708Z"
    }
   },
   "outputs": [],
   "source": [
    "ConfusionMatrixDisplay.from_predictions(y_test,y_pred_lr)\n",
    "plt.title('Logistic regression')\n",
    "plt.show()\n",
    "print(f\" Accuracy is {accuracy_score(y_test,y_pred_lr)}\")\n",
    "print(classification_report(y_test,y_pred_lr))"
   ]
  },
  {
   "cell_type": "markdown",
   "metadata": {},
   "source": [
    "# Hyper parameter tunning"
   ]
  },
  {
   "cell_type": "code",
   "execution_count": null,
   "metadata": {
    "execution": {
     "iopub.execute_input": "2022-11-08T13:06:52.965297Z",
     "iopub.status.busy": "2022-11-08T13:06:52.964378Z",
     "iopub.status.idle": "2022-11-08T13:06:52.970378Z",
     "shell.execute_reply": "2022-11-08T13:06:52.969051Z",
     "shell.execute_reply.started": "2022-11-08T13:06:52.965261Z"
    }
   },
   "outputs": [],
   "source": [
    "from sklearn.model_selection import GridSearchCV"
   ]
  },
  {
   "cell_type": "code",
   "execution_count": null,
   "metadata": {
    "execution": {
     "iopub.execute_input": "2022-11-08T13:06:52.973206Z",
     "iopub.status.busy": "2022-11-08T13:06:52.972626Z",
     "iopub.status.idle": "2022-11-08T13:06:52.987395Z",
     "shell.execute_reply": "2022-11-08T13:06:52.985892Z",
     "shell.execute_reply.started": "2022-11-08T13:06:52.973169Z"
    }
   },
   "outputs": [],
   "source": [
    "para = {\n",
    "    \n",
    "    'criterion':['gini', 'entropy','log_loss'],\n",
    "#     'max_features': ['sqrt','log2'],\n",
    "#     'random_state': [0,1,2,3,4],\n",
    "    'class_weight':['balanced','balanced_subsample']\n",
    "}"
   ]
  },
  {
   "cell_type": "code",
   "execution_count": null,
   "metadata": {
    "execution": {
     "iopub.execute_input": "2022-11-08T13:06:52.988919Z",
     "iopub.status.busy": "2022-11-08T13:06:52.988541Z",
     "iopub.status.idle": "2022-11-08T13:06:53.008617Z",
     "shell.execute_reply": "2022-11-08T13:06:53.007194Z",
     "shell.execute_reply.started": "2022-11-08T13:06:52.988888Z"
    }
   },
   "outputs": [],
   "source": [
    "grid = GridSearchCV(model_rf, param_grid=para, cv=5, scoring='accuracy')"
   ]
  },
  {
   "cell_type": "code",
   "execution_count": null,
   "metadata": {
    "execution": {
     "iopub.execute_input": "2022-11-08T13:06:53.010524Z",
     "iopub.status.busy": "2022-11-08T13:06:53.010177Z",
     "iopub.status.idle": "2022-11-08T13:07:53.087624Z",
     "shell.execute_reply": "2022-11-08T13:07:53.086663Z",
     "shell.execute_reply.started": "2022-11-08T13:06:53.010493Z"
    }
   },
   "outputs": [],
   "source": [
    "grid.fit(x_train,y_train)"
   ]
  },
  {
   "cell_type": "code",
   "execution_count": null,
   "metadata": {
    "execution": {
     "iopub.execute_input": "2022-11-08T13:07:53.089741Z",
     "iopub.status.busy": "2022-11-08T13:07:53.089123Z",
     "iopub.status.idle": "2022-11-08T13:07:53.094707Z",
     "shell.execute_reply": "2022-11-08T13:07:53.093329Z",
     "shell.execute_reply.started": "2022-11-08T13:07:53.089706Z"
    }
   },
   "outputs": [],
   "source": [
    "rf = grid.best_estimator_"
   ]
  },
  {
   "cell_type": "code",
   "execution_count": null,
   "metadata": {
    "execution": {
     "iopub.execute_input": "2022-11-08T13:07:53.096841Z",
     "iopub.status.busy": "2022-11-08T13:07:53.096434Z",
     "iopub.status.idle": "2022-11-08T13:07:53.186113Z",
     "shell.execute_reply": "2022-11-08T13:07:53.184719Z",
     "shell.execute_reply.started": "2022-11-08T13:07:53.09678Z"
    }
   },
   "outputs": [],
   "source": [
    "y_pred_grid = rf.predict(x_test)"
   ]
  },
  {
   "cell_type": "code",
   "execution_count": null,
   "metadata": {
    "execution": {
     "iopub.execute_input": "2022-11-08T13:07:53.187941Z",
     "iopub.status.busy": "2022-11-08T13:07:53.187518Z",
     "iopub.status.idle": "2022-11-08T13:07:53.481637Z",
     "shell.execute_reply": "2022-11-08T13:07:53.480244Z",
     "shell.execute_reply.started": "2022-11-08T13:07:53.187908Z"
    }
   },
   "outputs": [],
   "source": [
    "ConfusionMatrixDisplay.from_predictions(y_test,y_pred_grid)\n",
    "plt.title('Gride Search')\n",
    "plt.show()\n",
    "print(f\" Accuracy is {accuracy_score(y_test,y_pred_grid)}\")\n",
    "print(classification_report(y_test,y_pred_grid))"
   ]
  },
  {
   "cell_type": "code",
   "execution_count": null,
   "metadata": {},
   "outputs": [],
   "source": []
  }
 ],
 "metadata": {
  "kernelspec": {
   "display_name": "Python 3 (ipykernel)",
   "language": "python",
   "name": "python3"
  },
  "language_info": {
   "codemirror_mode": {
    "name": "ipython",
    "version": 3
   },
   "file_extension": ".py",
   "mimetype": "text/x-python",
   "name": "python",
   "nbconvert_exporter": "python",
   "pygments_lexer": "ipython3",
   "version": "3.9.12"
  }
 },
 "nbformat": 4,
 "nbformat_minor": 4
}
